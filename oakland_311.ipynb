{
 "cells": [
  {
   "cell_type": "markdown",
   "id": "11357a90-2cd0-4555-8c8f-a3ce79a90d29",
   "metadata": {},
   "source": [
    "# Homework 1017\n",
    "\n",
    "Look through Oakland 311 calls the same way we looked through Berkeley 311 calls. Note any interesting observations.  \n",
    "Modify by **Jiyun Tsai** on Oct. 21, 2022  \n",
    "I use Anaconda to open and run codes in python notebook then paste the codes here because it keeps on crashing"
   ]
  },
  {
   "cell_type": "code",
   "execution_count": 1,
   "id": "0c7481a1-b532-4827-a3d3-525ee5d9b553",
   "metadata": {},
   "outputs": [],
   "source": [
    "import pandas as pd\n",
    "import requests"
   ]
  },
  {
   "cell_type": "markdown",
   "id": "697f51c6-b3ac-486e-bc99-8be67ab07d6f",
   "metadata": {},
   "source": [
    "## Download data\n",
    "\n",
    "Download [311 call data](https://data.oaklandca.gov/Infrastructure/Service-requests-received-by-the-Oakland-Call-Cent/quth-gb8e) from the City of Oakland's Open Data Portal. "
   ]
  },
  {
   "cell_type": "code",
   "execution_count": 2,
   "id": "6fec60f3-f48f-4e5e-b4a2-44fc4e568e18",
   "metadata": {},
   "outputs": [
    {
     "data": {
      "text/plain": [
       "197876601"
      ]
     },
     "execution_count": 2,
     "metadata": {},
     "output_type": "execute_result"
    }
   ],
   "source": [
    "url = 'https://data.oaklandca.gov/api/views/quth-gb8e/rows.csv?accessType=DOWNLOAD'\n",
    "r = requests.get(url, allow_redirects=False) #api\n",
    "\n",
    "# write the content of the request into a file called `oakland_311.csv`\n",
    "open('oakland_311.csv', 'wb').write(r.content)"
   ]
  },
  {
   "cell_type": "markdown",
   "id": "ea4694c7-1ca4-4c08-8c3e-8fd41c0debe6",
   "metadata": {},
   "source": [
    "## Import data and Preview data structure"
   ]
  },
  {
   "cell_type": "code",
   "execution_count": 3,
   "id": "dfb05cba-9cda-4ffd-835b-2d84dbee961e",
   "metadata": {},
   "outputs": [
    {
     "data": {
      "text/html": [
       "<div>\n",
       "<style scoped>\n",
       "    .dataframe tbody tr th:only-of-type {\n",
       "        vertical-align: middle;\n",
       "    }\n",
       "\n",
       "    .dataframe tbody tr th {\n",
       "        vertical-align: top;\n",
       "    }\n",
       "\n",
       "    .dataframe thead th {\n",
       "        text-align: right;\n",
       "    }\n",
       "</style>\n",
       "<table border=\"1\" class=\"dataframe\">\n",
       "  <thead>\n",
       "    <tr style=\"text-align: right;\">\n",
       "      <th></th>\n",
       "      <th>REQUESTID</th>\n",
       "      <th>DATETIMEINIT</th>\n",
       "      <th>SOURCE</th>\n",
       "      <th>DESCRIPTION</th>\n",
       "      <th>REQCATEGORY</th>\n",
       "      <th>REQADDRESS</th>\n",
       "      <th>STATUS</th>\n",
       "      <th>REFERREDTO</th>\n",
       "      <th>DATETIMECLOSED</th>\n",
       "      <th>SRX</th>\n",
       "      <th>SRY</th>\n",
       "      <th>COUNCILDISTRICT</th>\n",
       "      <th>BEAT</th>\n",
       "      <th>PROBADDRESS</th>\n",
       "      <th>City</th>\n",
       "      <th>State</th>\n",
       "    </tr>\n",
       "  </thead>\n",
       "  <tbody>\n",
       "    <tr>\n",
       "      <th>0</th>\n",
       "      <td>1243192</td>\n",
       "      <td>10/01/2022 03:04:04 PM</td>\n",
       "      <td>SeeClickFix</td>\n",
       "      <td>Parking - Abandoned Vehicle</td>\n",
       "      <td>ABANDONED AUTO</td>\n",
       "      <td>(37.78244090373501, -122.20980685324334)</td>\n",
       "      <td>PENDING</td>\n",
       "      <td>NaN</td>\n",
       "      <td>NaN</td>\n",
       "      <td>6067572.852</td>\n",
       "      <td>2111880.021</td>\n",
       "      <td>5</td>\n",
       "      <td>24X</td>\n",
       "      <td>2274 39TH AVE</td>\n",
       "      <td>Oakland</td>\n",
       "      <td>CA</td>\n",
       "    </tr>\n",
       "    <tr>\n",
       "      <th>1</th>\n",
       "      <td>1243224</td>\n",
       "      <td>10/01/2022 06:53:08 PM</td>\n",
       "      <td>SeeClickFix</td>\n",
       "      <td>Parking - Abandoned Vehicle</td>\n",
       "      <td>ABANDONED AUTO</td>\n",
       "      <td>(37.7964769575549, -122.1821322976179)</td>\n",
       "      <td>PENDING</td>\n",
       "      <td>NaN</td>\n",
       "      <td>NaN</td>\n",
       "      <td>6075661.136</td>\n",
       "      <td>2116845.105</td>\n",
       "      <td>4</td>\n",
       "      <td>22Y</td>\n",
       "      <td>4144 REDWOOD RD</td>\n",
       "      <td>Oakland</td>\n",
       "      <td>CA</td>\n",
       "    </tr>\n",
       "    <tr>\n",
       "      <th>2</th>\n",
       "      <td>1243123</td>\n",
       "      <td>10/01/2022 07:27:50 AM</td>\n",
       "      <td>SeeClickFix</td>\n",
       "      <td>Illegal Dumping - debris, appliances, etc.</td>\n",
       "      <td>ILLDUMP</td>\n",
       "      <td>(37.8147716668527, -122.2751833351602)</td>\n",
       "      <td>PENDING</td>\n",
       "      <td>NaN</td>\n",
       "      <td>NaN</td>\n",
       "      <td>6048906.109</td>\n",
       "      <td>2124002.032</td>\n",
       "      <td>3</td>\n",
       "      <td>07X</td>\n",
       "      <td>823 ISABELLA ST</td>\n",
       "      <td>Oakland</td>\n",
       "      <td>CA</td>\n",
       "    </tr>\n",
       "    <tr>\n",
       "      <th>3</th>\n",
       "      <td>1243211</td>\n",
       "      <td>10/01/2022 05:42:31 PM</td>\n",
       "      <td>SeeClickFix</td>\n",
       "      <td>Parking - Abandoned Vehicle</td>\n",
       "      <td>ABANDONED AUTO</td>\n",
       "      <td>(37.814014015766375, -122.29312998287399)</td>\n",
       "      <td>PENDING</td>\n",
       "      <td>NaN</td>\n",
       "      <td>NaN</td>\n",
       "      <td>6043717.577</td>\n",
       "      <td>2123825.032</td>\n",
       "      <td>3</td>\n",
       "      <td>05Y</td>\n",
       "      <td>1644 17TH ST</td>\n",
       "      <td>Oakland</td>\n",
       "      <td>CA</td>\n",
       "    </tr>\n",
       "    <tr>\n",
       "      <th>4</th>\n",
       "      <td>1243238</td>\n",
       "      <td>10/01/2022 08:51:48 PM</td>\n",
       "      <td>SeeClickFix</td>\n",
       "      <td>Other City Services (app/web request)</td>\n",
       "      <td>OTHER</td>\n",
       "      <td>(37.78609509858662, -122.24082419971123)</td>\n",
       "      <td>PENDING</td>\n",
       "      <td>NaN</td>\n",
       "      <td>NaN</td>\n",
       "      <td>6058635.345</td>\n",
       "      <td>2113375.608</td>\n",
       "      <td>2</td>\n",
       "      <td>19X</td>\n",
       "      <td>1921 INTERNATIONAL BLVD</td>\n",
       "      <td>Oakland</td>\n",
       "      <td>CA</td>\n",
       "    </tr>\n",
       "    <tr>\n",
       "      <th>5</th>\n",
       "      <td>1243128</td>\n",
       "      <td>10/01/2022 09:04:24 AM</td>\n",
       "      <td>SeeClickFix</td>\n",
       "      <td>Other City Services (app/web request)</td>\n",
       "      <td>OTHER</td>\n",
       "      <td>(37.80370218637348, -122.21409438617036)</td>\n",
       "      <td>PENDING</td>\n",
       "      <td>NaN</td>\n",
       "      <td>NaN</td>\n",
       "      <td>6066475.783</td>\n",
       "      <td>2119643.097</td>\n",
       "      <td>4</td>\n",
       "      <td>22X</td>\n",
       "      <td>3775 FRUITVALE AVE</td>\n",
       "      <td>Oakland</td>\n",
       "      <td>CA</td>\n",
       "    </tr>\n",
       "    <tr>\n",
       "      <th>6</th>\n",
       "      <td>1243133</td>\n",
       "      <td>10/01/2022 09:33:01 AM</td>\n",
       "      <td>SeeClickFix</td>\n",
       "      <td>Parking - Enforcement</td>\n",
       "      <td>PARKING</td>\n",
       "      <td>(37.77437136347446, -122.16867800601415)</td>\n",
       "      <td>PENDING</td>\n",
       "      <td>NaN</td>\n",
       "      <td>NaN</td>\n",
       "      <td>6079404.454</td>\n",
       "      <td>2108727.662</td>\n",
       "      <td>6</td>\n",
       "      <td>29X</td>\n",
       "      <td>3900 BURCKHALTER AVE</td>\n",
       "      <td>Oakland</td>\n",
       "      <td>CA</td>\n",
       "    </tr>\n",
       "    <tr>\n",
       "      <th>7</th>\n",
       "      <td>1243179</td>\n",
       "      <td>10/01/2022 01:57:54 PM</td>\n",
       "      <td>SeeClickFix</td>\n",
       "      <td>Parking - Enforcement</td>\n",
       "      <td>PARKING</td>\n",
       "      <td>(37.81126168650443, -122.26207798872919)</td>\n",
       "      <td>PENDING</td>\n",
       "      <td>NaN</td>\n",
       "      <td>NaN</td>\n",
       "      <td>6052667.068</td>\n",
       "      <td>2122652.651</td>\n",
       "      <td>3</td>\n",
       "      <td>14X</td>\n",
       "      <td>HARRISON ST</td>\n",
       "      <td>Oakland</td>\n",
       "      <td>CA</td>\n",
       "    </tr>\n",
       "    <tr>\n",
       "      <th>8</th>\n",
       "      <td>1243165</td>\n",
       "      <td>10/01/2022 01:08:23 PM</td>\n",
       "      <td>SeeClickFix</td>\n",
       "      <td>Parking - Abandoned Vehicle</td>\n",
       "      <td>ABANDONED AUTO</td>\n",
       "      <td>(37.8114159881208, -122.22511786268738)</td>\n",
       "      <td>PENDING</td>\n",
       "      <td>NaN</td>\n",
       "      <td>NaN</td>\n",
       "      <td>6063343.304</td>\n",
       "      <td>2122509.912</td>\n",
       "      <td>2</td>\n",
       "      <td>16X</td>\n",
       "      <td>1203 SUNNYHILLS RD</td>\n",
       "      <td>Oakland</td>\n",
       "      <td>CA</td>\n",
       "    </tr>\n",
       "    <tr>\n",
       "      <th>9</th>\n",
       "      <td>1243147</td>\n",
       "      <td>10/01/2022 11:22:57 AM</td>\n",
       "      <td>SeeClickFix</td>\n",
       "      <td>Parking - Abandoned Vehicle</td>\n",
       "      <td>ABANDONED AUTO</td>\n",
       "      <td>(37.83139003447667, -122.21007990963214)</td>\n",
       "      <td>PENDING</td>\n",
       "      <td>NaN</td>\n",
       "      <td>NaN</td>\n",
       "      <td>6067819.625</td>\n",
       "      <td>2129702.009</td>\n",
       "      <td>4</td>\n",
       "      <td>13Z</td>\n",
       "      <td>GASPAR DR &amp; COLTON BLVD</td>\n",
       "      <td>Oakland</td>\n",
       "      <td>CA</td>\n",
       "    </tr>\n",
       "  </tbody>\n",
       "</table>\n",
       "</div>"
      ],
      "text/plain": [
       "   REQUESTID            DATETIMEINIT       SOURCE  \\\n",
       "0    1243192  10/01/2022 03:04:04 PM  SeeClickFix   \n",
       "1    1243224  10/01/2022 06:53:08 PM  SeeClickFix   \n",
       "2    1243123  10/01/2022 07:27:50 AM  SeeClickFix   \n",
       "3    1243211  10/01/2022 05:42:31 PM  SeeClickFix   \n",
       "4    1243238  10/01/2022 08:51:48 PM  SeeClickFix   \n",
       "5    1243128  10/01/2022 09:04:24 AM  SeeClickFix   \n",
       "6    1243133  10/01/2022 09:33:01 AM  SeeClickFix   \n",
       "7    1243179  10/01/2022 01:57:54 PM  SeeClickFix   \n",
       "8    1243165  10/01/2022 01:08:23 PM  SeeClickFix   \n",
       "9    1243147  10/01/2022 11:22:57 AM  SeeClickFix   \n",
       "\n",
       "                                  DESCRIPTION     REQCATEGORY  \\\n",
       "0                 Parking - Abandoned Vehicle  ABANDONED AUTO   \n",
       "1                 Parking - Abandoned Vehicle  ABANDONED AUTO   \n",
       "2  Illegal Dumping - debris, appliances, etc.         ILLDUMP   \n",
       "3                 Parking - Abandoned Vehicle  ABANDONED AUTO   \n",
       "4       Other City Services (app/web request)           OTHER   \n",
       "5       Other City Services (app/web request)           OTHER   \n",
       "6                       Parking - Enforcement         PARKING   \n",
       "7                       Parking - Enforcement         PARKING   \n",
       "8                 Parking - Abandoned Vehicle  ABANDONED AUTO   \n",
       "9                 Parking - Abandoned Vehicle  ABANDONED AUTO   \n",
       "\n",
       "                                  REQADDRESS   STATUS REFERREDTO  \\\n",
       "0   (37.78244090373501, -122.20980685324334)  PENDING        NaN   \n",
       "1     (37.7964769575549, -122.1821322976179)  PENDING        NaN   \n",
       "2     (37.8147716668527, -122.2751833351602)  PENDING        NaN   \n",
       "3  (37.814014015766375, -122.29312998287399)  PENDING        NaN   \n",
       "4   (37.78609509858662, -122.24082419971123)  PENDING        NaN   \n",
       "5   (37.80370218637348, -122.21409438617036)  PENDING        NaN   \n",
       "6   (37.77437136347446, -122.16867800601415)  PENDING        NaN   \n",
       "7   (37.81126168650443, -122.26207798872919)  PENDING        NaN   \n",
       "8    (37.8114159881208, -122.22511786268738)  PENDING        NaN   \n",
       "9   (37.83139003447667, -122.21007990963214)  PENDING        NaN   \n",
       "\n",
       "  DATETIMECLOSED          SRX          SRY COUNCILDISTRICT BEAT  \\\n",
       "0            NaN  6067572.852  2111880.021               5  24X   \n",
       "1            NaN  6075661.136  2116845.105               4  22Y   \n",
       "2            NaN  6048906.109  2124002.032               3  07X   \n",
       "3            NaN  6043717.577  2123825.032               3  05Y   \n",
       "4            NaN  6058635.345  2113375.608               2  19X   \n",
       "5            NaN  6066475.783  2119643.097               4  22X   \n",
       "6            NaN  6079404.454  2108727.662               6  29X   \n",
       "7            NaN  6052667.068  2122652.651               3  14X   \n",
       "8            NaN  6063343.304  2122509.912               2  16X   \n",
       "9            NaN  6067819.625  2129702.009               4  13Z   \n",
       "\n",
       "               PROBADDRESS     City State  \n",
       "0            2274 39TH AVE  Oakland    CA  \n",
       "1          4144 REDWOOD RD  Oakland    CA  \n",
       "2          823 ISABELLA ST  Oakland    CA  \n",
       "3             1644 17TH ST  Oakland    CA  \n",
       "4  1921 INTERNATIONAL BLVD  Oakland    CA  \n",
       "5       3775 FRUITVALE AVE  Oakland    CA  \n",
       "6     3900 BURCKHALTER AVE  Oakland    CA  \n",
       "7              HARRISON ST  Oakland    CA  \n",
       "8       1203 SUNNYHILLS RD  Oakland    CA  \n",
       "9  GASPAR DR & COLTON BLVD  Oakland    CA  "
      ]
     },
     "execution_count": 3,
     "metadata": {},
     "output_type": "execute_result"
    }
   ],
   "source": [
    "# Import the .csv data to panda dataframe, notice the data will update daily\n",
    "oakland_311_original = pd.read_csv('oakland_311.csv')\n",
    "\n",
    "# Preview data using head() and tail()\n",
    "oakland_311_original.head(10)"
   ]
  },
  {
   "cell_type": "code",
   "execution_count": 6,
   "id": "e54fbcd5-f3ee-492b-91fc-7186609722f5",
   "metadata": {},
   "outputs": [
    {
     "data": {
      "text/html": [
       "<div>\n",
       "<style scoped>\n",
       "    .dataframe tbody tr th:only-of-type {\n",
       "        vertical-align: middle;\n",
       "    }\n",
       "\n",
       "    .dataframe tbody tr th {\n",
       "        vertical-align: top;\n",
       "    }\n",
       "\n",
       "    .dataframe thead th {\n",
       "        text-align: right;\n",
       "    }\n",
       "</style>\n",
       "<table border=\"1\" class=\"dataframe\">\n",
       "  <thead>\n",
       "    <tr style=\"text-align: right;\">\n",
       "      <th></th>\n",
       "      <th>REQUESTID</th>\n",
       "      <th>DATETIMEINIT</th>\n",
       "      <th>SOURCE</th>\n",
       "      <th>DESCRIPTION</th>\n",
       "      <th>REQCATEGORY</th>\n",
       "      <th>REQADDRESS</th>\n",
       "      <th>STATUS</th>\n",
       "      <th>REFERREDTO</th>\n",
       "      <th>DATETIMECLOSED</th>\n",
       "      <th>SRX</th>\n",
       "      <th>SRY</th>\n",
       "      <th>COUNCILDISTRICT</th>\n",
       "      <th>BEAT</th>\n",
       "      <th>PROBADDRESS</th>\n",
       "      <th>City</th>\n",
       "      <th>State</th>\n",
       "    </tr>\n",
       "  </thead>\n",
       "  <tbody>\n",
       "    <tr>\n",
       "      <th>935723</th>\n",
       "      <td>1106710</td>\n",
       "      <td>04/21/2021 09:51:54 AM</td>\n",
       "      <td>Phone</td>\n",
       "      <td>Tree - Diseased, Dead, Dying, Leaning, or Split</td>\n",
       "      <td>TREES</td>\n",
       "      <td>(37.81089665056028, -122.19624276347537)</td>\n",
       "      <td>WOCREATE</td>\n",
       "      <td>NaN</td>\n",
       "      <td>NaN</td>\n",
       "      <td>6071679.914</td>\n",
       "      <td>2122168.372</td>\n",
       "      <td>CCD4</td>\n",
       "      <td>22Y</td>\n",
       "      <td>2956 JOAQUIN MILLER RD</td>\n",
       "      <td>Oakland</td>\n",
       "      <td>CA</td>\n",
       "    </tr>\n",
       "    <tr>\n",
       "      <th>935724</th>\n",
       "      <td>1123211</td>\n",
       "      <td>06/21/2021 10:28:17 AM</td>\n",
       "      <td>SeeClickFix</td>\n",
       "      <td>Litter - Street Litter Container - Broken</td>\n",
       "      <td>ILLDUMP</td>\n",
       "      <td>(37.77014199976493, -122.23108189837811)</td>\n",
       "      <td>CLOSED</td>\n",
       "      <td>NaN</td>\n",
       "      <td>06/25/2021 09:52:02 AM</td>\n",
       "      <td>6061342.731</td>\n",
       "      <td>2107515.517</td>\n",
       "      <td>CCD5</td>\n",
       "      <td>20X</td>\n",
       "      <td>300 LANCASTER ST</td>\n",
       "      <td>Oakland</td>\n",
       "      <td>CA</td>\n",
       "    </tr>\n",
       "    <tr>\n",
       "      <th>935725</th>\n",
       "      <td>1107383</td>\n",
       "      <td>04/23/2021 11:03:16 AM</td>\n",
       "      <td>Email</td>\n",
       "      <td>Litter in Parks</td>\n",
       "      <td>PARKS</td>\n",
       "      <td>(37.79976707105142, -122.26813732356717)</td>\n",
       "      <td>CANCEL</td>\n",
       "      <td>NaN</td>\n",
       "      <td>NaN</td>\n",
       "      <td>6050837.884</td>\n",
       "      <td>2118500.954</td>\n",
       "      <td>CCD2</td>\n",
       "      <td>03X</td>\n",
       "      <td>LINCOLN SQUARE PARK</td>\n",
       "      <td>Oakland</td>\n",
       "      <td>CA</td>\n",
       "    </tr>\n",
       "    <tr>\n",
       "      <th>935726</th>\n",
       "      <td>1113413</td>\n",
       "      <td>05/14/2021 04:28:50 PM</td>\n",
       "      <td>SeeClickFix</td>\n",
       "      <td>Illegal Dumping - debris, appliances, etc.</td>\n",
       "      <td>ILLDUMP</td>\n",
       "      <td>(37.81478040016834, -122.29303663395133)</td>\n",
       "      <td>CLOSED</td>\n",
       "      <td>NaN</td>\n",
       "      <td>05/19/2021 09:36:55 PM</td>\n",
       "      <td>6043749.884</td>\n",
       "      <td>2124103.523</td>\n",
       "      <td>CCD3</td>\n",
       "      <td>05Y</td>\n",
       "      <td>18TH ST &amp; CAMPBELL ST</td>\n",
       "      <td>Oakland</td>\n",
       "      <td>CA</td>\n",
       "    </tr>\n",
       "    <tr>\n",
       "      <th>935727</th>\n",
       "      <td>1124896</td>\n",
       "      <td>06/27/2021 05:52:21 PM</td>\n",
       "      <td>SeeClickFix</td>\n",
       "      <td>Illegal Dumping � mattress/boxspring</td>\n",
       "      <td>ILLDUMP</td>\n",
       "      <td>(37.827716815705685, -122.28471235008593)</td>\n",
       "      <td>CLOSED</td>\n",
       "      <td>NaN</td>\n",
       "      <td>06/29/2021 08:14:08 PM</td>\n",
       "      <td>6046243.878</td>\n",
       "      <td>2128767.169</td>\n",
       "      <td>CCD3</td>\n",
       "      <td>07X</td>\n",
       "      <td>3535 HOLLIS ST</td>\n",
       "      <td>Oakland</td>\n",
       "      <td>CA</td>\n",
       "    </tr>\n",
       "    <tr>\n",
       "      <th>935728</th>\n",
       "      <td>1114706</td>\n",
       "      <td>05/19/2021 04:27:17 PM</td>\n",
       "      <td>SeeClickFix</td>\n",
       "      <td>Parking - Abandoned Vehicle</td>\n",
       "      <td>POLICE</td>\n",
       "      <td>(37.773695001577835, -122.17537597640717)</td>\n",
       "      <td>CLOSED</td>\n",
       "      <td>NaN</td>\n",
       "      <td>08/02/2021 01:20:17 PM</td>\n",
       "      <td>6077464.481</td>\n",
       "      <td>2108516.009</td>\n",
       "      <td>CCD6</td>\n",
       "      <td>29X</td>\n",
       "      <td>6618 LAIRD AVE</td>\n",
       "      <td>Oakland</td>\n",
       "      <td>CA</td>\n",
       "    </tr>\n",
       "    <tr>\n",
       "      <th>935729</th>\n",
       "      <td>1124225</td>\n",
       "      <td>06/24/2021 12:07:46 PM</td>\n",
       "      <td>SeeClickFix</td>\n",
       "      <td>Illegal Dumping - debris, appliances, etc.</td>\n",
       "      <td>ILLDUMP</td>\n",
       "      <td>(37.849167834332334, -122.28460742401488)</td>\n",
       "      <td>CLOSED</td>\n",
       "      <td>NaN</td>\n",
       "      <td>06/25/2021 05:38:07 PM</td>\n",
       "      <td>6046423.116</td>\n",
       "      <td>2136576.035</td>\n",
       "      <td>CCD1</td>\n",
       "      <td>10X</td>\n",
       "      <td>6628 HELEN CT</td>\n",
       "      <td>Oakland</td>\n",
       "      <td>CA</td>\n",
       "    </tr>\n",
       "    <tr>\n",
       "      <th>935730</th>\n",
       "      <td>1119508</td>\n",
       "      <td>06/07/2021 03:25:51 PM</td>\n",
       "      <td>SeeClickFix</td>\n",
       "      <td>Parking - Abandoned Vehicle</td>\n",
       "      <td>POLICE</td>\n",
       "      <td>(37.802163003247536, -122.23499896883865)</td>\n",
       "      <td>CANCEL</td>\n",
       "      <td>NaN</td>\n",
       "      <td>NaN</td>\n",
       "      <td>6060426.881</td>\n",
       "      <td>2119194.029</td>\n",
       "      <td>CCD2</td>\n",
       "      <td>17Y</td>\n",
       "      <td>3219 ELLIOT ST</td>\n",
       "      <td>Oakland</td>\n",
       "      <td>CA</td>\n",
       "    </tr>\n",
       "    <tr>\n",
       "      <th>935731</th>\n",
       "      <td>1114657</td>\n",
       "      <td>05/19/2021 02:35:57 PM</td>\n",
       "      <td>Voicemail</td>\n",
       "      <td>Recycling - Repair/Replace Cart</td>\n",
       "      <td>RECYCLING</td>\n",
       "      <td>(37.81240377066922, -122.27655475245274)</td>\n",
       "      <td>CLOSED</td>\n",
       "      <td>NaN</td>\n",
       "      <td>05/21/2021 03:42:05 PM</td>\n",
       "      <td>6048493.657</td>\n",
       "      <td>2123147.497</td>\n",
       "      <td>CCD3</td>\n",
       "      <td>05X</td>\n",
       "      <td>2131 WEST ST</td>\n",
       "      <td>Oakland</td>\n",
       "      <td>CA</td>\n",
       "    </tr>\n",
       "    <tr>\n",
       "      <th>935732</th>\n",
       "      <td>1108146</td>\n",
       "      <td>04/26/2021 02:37:02 PM</td>\n",
       "      <td>Phone</td>\n",
       "      <td>Illegal Dumping - debris, appliances, etc.</td>\n",
       "      <td>ILLDUMP</td>\n",
       "      <td>(37.84761984869444, -122.25216142316818)</td>\n",
       "      <td>CLOSED</td>\n",
       "      <td>NaN</td>\n",
       "      <td>04/30/2021 03:35:32 PM</td>\n",
       "      <td>6055779.117</td>\n",
       "      <td>2135835.460</td>\n",
       "      <td>CCD1</td>\n",
       "      <td>12Y</td>\n",
       "      <td>5951 COLLEGE AV</td>\n",
       "      <td>Oakland</td>\n",
       "      <td>CA</td>\n",
       "    </tr>\n",
       "  </tbody>\n",
       "</table>\n",
       "</div>"
      ],
      "text/plain": [
       "        REQUESTID            DATETIMEINIT       SOURCE  \\\n",
       "935723    1106710  04/21/2021 09:51:54 AM        Phone   \n",
       "935724    1123211  06/21/2021 10:28:17 AM  SeeClickFix   \n",
       "935725    1107383  04/23/2021 11:03:16 AM        Email   \n",
       "935726    1113413  05/14/2021 04:28:50 PM  SeeClickFix   \n",
       "935727    1124896  06/27/2021 05:52:21 PM  SeeClickFix   \n",
       "935728    1114706  05/19/2021 04:27:17 PM  SeeClickFix   \n",
       "935729    1124225  06/24/2021 12:07:46 PM  SeeClickFix   \n",
       "935730    1119508  06/07/2021 03:25:51 PM  SeeClickFix   \n",
       "935731    1114657  05/19/2021 02:35:57 PM    Voicemail   \n",
       "935732    1108146  04/26/2021 02:37:02 PM        Phone   \n",
       "\n",
       "                                            DESCRIPTION REQCATEGORY  \\\n",
       "935723  Tree - Diseased, Dead, Dying, Leaning, or Split       TREES   \n",
       "935724        Litter - Street Litter Container - Broken     ILLDUMP   \n",
       "935725                                  Litter in Parks       PARKS   \n",
       "935726       Illegal Dumping - debris, appliances, etc.     ILLDUMP   \n",
       "935727             Illegal Dumping � mattress/boxspring     ILLDUMP   \n",
       "935728                      Parking - Abandoned Vehicle      POLICE   \n",
       "935729       Illegal Dumping - debris, appliances, etc.     ILLDUMP   \n",
       "935730                      Parking - Abandoned Vehicle      POLICE   \n",
       "935731                  Recycling - Repair/Replace Cart   RECYCLING   \n",
       "935732       Illegal Dumping - debris, appliances, etc.     ILLDUMP   \n",
       "\n",
       "                                       REQADDRESS    STATUS REFERREDTO  \\\n",
       "935723   (37.81089665056028, -122.19624276347537)  WOCREATE        NaN   \n",
       "935724   (37.77014199976493, -122.23108189837811)    CLOSED        NaN   \n",
       "935725   (37.79976707105142, -122.26813732356717)    CANCEL        NaN   \n",
       "935726   (37.81478040016834, -122.29303663395133)    CLOSED        NaN   \n",
       "935727  (37.827716815705685, -122.28471235008593)    CLOSED        NaN   \n",
       "935728  (37.773695001577835, -122.17537597640717)    CLOSED        NaN   \n",
       "935729  (37.849167834332334, -122.28460742401488)    CLOSED        NaN   \n",
       "935730  (37.802163003247536, -122.23499896883865)    CANCEL        NaN   \n",
       "935731   (37.81240377066922, -122.27655475245274)    CLOSED        NaN   \n",
       "935732   (37.84761984869444, -122.25216142316818)    CLOSED        NaN   \n",
       "\n",
       "                DATETIMECLOSED          SRX          SRY COUNCILDISTRICT BEAT  \\\n",
       "935723                     NaN  6071679.914  2122168.372            CCD4  22Y   \n",
       "935724  06/25/2021 09:52:02 AM  6061342.731  2107515.517            CCD5  20X   \n",
       "935725                     NaN  6050837.884  2118500.954            CCD2  03X   \n",
       "935726  05/19/2021 09:36:55 PM  6043749.884  2124103.523            CCD3  05Y   \n",
       "935727  06/29/2021 08:14:08 PM  6046243.878  2128767.169            CCD3  07X   \n",
       "935728  08/02/2021 01:20:17 PM  6077464.481  2108516.009            CCD6  29X   \n",
       "935729  06/25/2021 05:38:07 PM  6046423.116  2136576.035            CCD1  10X   \n",
       "935730                     NaN  6060426.881  2119194.029            CCD2  17Y   \n",
       "935731  05/21/2021 03:42:05 PM  6048493.657  2123147.497            CCD3  05X   \n",
       "935732  04/30/2021 03:35:32 PM  6055779.117  2135835.460            CCD1  12Y   \n",
       "\n",
       "                   PROBADDRESS     City State  \n",
       "935723  2956 JOAQUIN MILLER RD  Oakland    CA  \n",
       "935724        300 LANCASTER ST  Oakland    CA  \n",
       "935725     LINCOLN SQUARE PARK  Oakland    CA  \n",
       "935726   18TH ST & CAMPBELL ST  Oakland    CA  \n",
       "935727          3535 HOLLIS ST  Oakland    CA  \n",
       "935728          6618 LAIRD AVE  Oakland    CA  \n",
       "935729           6628 HELEN CT  Oakland    CA  \n",
       "935730          3219 ELLIOT ST  Oakland    CA  \n",
       "935731            2131 WEST ST  Oakland    CA  \n",
       "935732         5951 COLLEGE AV  Oakland    CA  "
      ]
     },
     "execution_count": 6,
     "metadata": {},
     "output_type": "execute_result"
    }
   ],
   "source": [
    "# tail() to look at the last rows of the data\n",
    "oakland_311_original.tail(10) ## there are 935733 rows as of Oct.21, 2022"
   ]
  },
  {
   "cell_type": "code",
   "execution_count": 4,
   "id": "7891a123-b438-40ec-ad3d-b1d5cf972397",
   "metadata": {},
   "outputs": [
    {
     "name": "stdout",
     "output_type": "stream",
     "text": [
      "<class 'pandas.core.frame.DataFrame'>\n",
      "RangeIndex: 935733 entries, 0 to 935732\n",
      "Data columns (total 16 columns):\n",
      " #   Column           Non-Null Count   Dtype  \n",
      "---  ------           --------------   -----  \n",
      " 0   REQUESTID        935733 non-null  int64  \n",
      " 1   DATETIMEINIT     935733 non-null  object \n",
      " 2   SOURCE           935733 non-null  object \n",
      " 3   DESCRIPTION      935733 non-null  object \n",
      " 4   REQCATEGORY      935645 non-null  object \n",
      " 5   REQADDRESS       918393 non-null  object \n",
      " 6   STATUS           935732 non-null  object \n",
      " 7   REFERREDTO       82901 non-null   object \n",
      " 8   DATETIMECLOSED   674478 non-null  object \n",
      " 9   SRX              918393 non-null  float64\n",
      " 10  SRY              918393 non-null  float64\n",
      " 11  COUNCILDISTRICT  891105 non-null  object \n",
      " 12  BEAT             893826 non-null  object \n",
      " 13  PROBADDRESS      935248 non-null  object \n",
      " 14  City             935733 non-null  object \n",
      " 15  State            935733 non-null  object \n",
      "dtypes: float64(2), int64(1), object(13)\n",
      "memory usage: 114.2+ MB\n"
     ]
    }
   ],
   "source": [
    "# Use info() to see types/structures of the dataframe\n",
    "\n",
    "oakland_311_original.info() ## there are 16 columns, if the non-null count is lesser than 935733(as of Oct.21, 2022)\n",
    "                            ## it means there are some missing values in the columns (id matches the total which is good)"
   ]
  },
  {
   "cell_type": "markdown",
   "id": "8cd52fa8-145e-4671-835b-d39242a5b01a",
   "metadata": {},
   "source": [
    "## Clean data"
   ]
  },
  {
   "cell_type": "code",
   "execution_count": 5,
   "id": "33d244f0-2947-451a-a308-80447cd5f12f",
   "metadata": {},
   "outputs": [],
   "source": [
    "# Copy the dataframe so that we don't mess up with the original data\n",
    "oakland_311 = oakland_311_original.copy()"
   ]
  },
  {
   "cell_type": "code",
   "execution_count": 6,
   "id": "ae9b686b-ec48-47f7-85b6-90b1ef7f5596",
   "metadata": {},
   "outputs": [
    {
     "data": {
      "text/plain": [
       "935733"
      ]
     },
     "execution_count": 6,
     "metadata": {},
     "output_type": "execute_result"
    }
   ],
   "source": [
    "oakland_311['REQUESTID'].nunique() ## see how many unique cases are there"
   ]
  },
  {
   "cell_type": "code",
   "execution_count": 7,
   "id": "35847e9a-565c-44cc-9640-6b5158fcf853",
   "metadata": {},
   "outputs": [
    {
     "data": {
      "text/plain": [
       "935733"
      ]
     },
     "execution_count": 7,
     "metadata": {},
     "output_type": "execute_result"
    }
   ],
   "source": [
    "len(oakland_311) ## the unique number matches the len that means each row has unique id"
   ]
  },
  {
   "cell_type": "code",
   "execution_count": 8,
   "id": "a87a5192-389c-472d-912e-2bb26dd7ae8a",
   "metadata": {},
   "outputs": [
    {
     "data": {
      "text/html": [
       "<div>\n",
       "<style scoped>\n",
       "    .dataframe tbody tr th:only-of-type {\n",
       "        vertical-align: middle;\n",
       "    }\n",
       "\n",
       "    .dataframe tbody tr th {\n",
       "        vertical-align: top;\n",
       "    }\n",
       "\n",
       "    .dataframe thead th {\n",
       "        text-align: right;\n",
       "    }\n",
       "</style>\n",
       "<table border=\"1\" class=\"dataframe\">\n",
       "  <thead>\n",
       "    <tr style=\"text-align: right;\">\n",
       "      <th></th>\n",
       "      <th>REQUESTID</th>\n",
       "      <th>DATETIMEINIT</th>\n",
       "      <th>SOURCE</th>\n",
       "      <th>DESCRIPTION</th>\n",
       "      <th>REQCATEGORY</th>\n",
       "      <th>REQADDRESS</th>\n",
       "      <th>STATUS</th>\n",
       "      <th>REFERREDTO</th>\n",
       "      <th>DATETIMECLOSED</th>\n",
       "      <th>SRX</th>\n",
       "      <th>SRY</th>\n",
       "      <th>COUNCILDISTRICT</th>\n",
       "      <th>BEAT</th>\n",
       "      <th>PROBADDRESS</th>\n",
       "      <th>City</th>\n",
       "      <th>State</th>\n",
       "    </tr>\n",
       "  </thead>\n",
       "  <tbody>\n",
       "  </tbody>\n",
       "</table>\n",
       "</div>"
      ],
      "text/plain": [
       "Empty DataFrame\n",
       "Columns: [REQUESTID, DATETIMEINIT, SOURCE, DESCRIPTION, REQCATEGORY, REQADDRESS, STATUS, REFERREDTO, DATETIMECLOSED, SRX, SRY, COUNCILDISTRICT, BEAT, PROBADDRESS, City, State]\n",
       "Index: []"
      ]
     },
     "execution_count": 8,
     "metadata": {},
     "output_type": "execute_result"
    }
   ],
   "source": [
    "# Ways to check duplicated IDs\n",
    "oakland_311[oakland_311['REQUESTID'].duplicated()] ## check if there are duplicated REQUESTID just in case"
   ]
  },
  {
   "cell_type": "code",
   "execution_count": 9,
   "id": "b4fcd98c-7bd4-47d1-ab7f-2b291c7196c2",
   "metadata": {},
   "outputs": [],
   "source": [
    "assert len(oakland_311) == oakland_311['REQUESTID'].nunique() ## nothing happened, True"
   ]
  },
  {
   "cell_type": "markdown",
   "id": "5e02a65b-c9b0-4044-80fa-5adfb1200c1e",
   "metadata": {},
   "source": [
    "### Convert date type and calculate execute time\n",
    "Use `df['column_name'] = pd.to_datetime(df['column_name'])`"
   ]
  },
  {
   "cell_type": "code",
   "execution_count": 10,
   "id": "501bcd6b-f8a1-419d-8373-f6ebf528a49a",
   "metadata": {},
   "outputs": [
    {
     "data": {
      "text/plain": [
       "'12/31/2021 12:57:32 AM'"
      ]
     },
     "execution_count": 10,
     "metadata": {},
     "output_type": "execute_result"
    }
   ],
   "source": [
    "# Convert 'DATETIMEINIT' and 'DATETIMECLOSED' to correct date type\n",
    "oakland_311['DATETIMEINIT'].min()\n",
    "oakland_311['DATETIMEINIT'].max() ## examine the min() and max() of the date and they are wrong"
   ]
  },
  {
   "cell_type": "code",
   "execution_count": null,
   "id": "5e2372ae-65e2-4a9f-af8b-a07d95de6ff9",
   "metadata": {},
   "outputs": [],
   "source": [
    "oakland_311['DATETIMEINIT'] = pd.to_datetime(oakland_311['DATETIMEINIT'])"
   ]
  },
  {
   "cell_type": "code",
   "execution_count": null,
   "id": "a46614ec-856a-427b-b26b-404a45bae482",
   "metadata": {},
   "outputs": [],
   "source": [
    "oakland_311['DATETIMECLOSED'] = pd.to_datetime(oakland_311['DATETIMECLOSED'])"
   ]
  },
  {
   "cell_type": "code",
   "execution_count": null,
   "id": "081ec171-f982-49ee-92e4-6d50a9bf0c97",
   "metadata": {},
   "outputs": [],
   "source": [
    "oakland_311.info() ## the date type has changed"
   ]
  },
  {
   "cell_type": "code",
   "execution_count": null,
   "id": "d1f32df4-18fd-4590-93b8-293c2d46f4f9",
   "metadata": {},
   "outputs": [],
   "source": [
    "# Calculate 311 execute time by 'DATETIMECLOSED' - 'DATETIMEINIT'\n",
    "oakland_311['Execute_Time'] = oakland_311['DATETIMECLOSED'] - oakland_311['DATETIMEINIT']"
   ]
  },
  {
   "cell_type": "code",
   "execution_count": null,
   "id": "c214d139-2123-4e66-b5c0-90f7f7440b8e",
   "metadata": {},
   "outputs": [],
   "source": [
    "oakland_311['Execute_Time'].max() # whao, that's more than 10 years..."
   ]
  },
  {
   "cell_type": "code",
   "execution_count": null,
   "id": "4c1f1fd4-fcb2-4659-a321-e5e1e4ed7be9",
   "metadata": {},
   "outputs": [],
   "source": [
    "# Check columns if there are unusual data(but also see summary of each column):\n",
    "\n",
    "# DATETIMEINIT: have changed the date type\n",
    "# SOURCE: check if there's non-categorized description\n",
    "# REQCATEGORY: check if there's non-categorized description\n",
    "# STATUS: check if there's non-categorized description\n",
    "# DATETIMECLOSED: have changed the date type\n",
    "# COUNCILDISTRICT: from 2009 to 2022, there are seven districts in Oakland, check if there's number outside of 1 to 7 (and NAs)"
   ]
  },
  {
   "cell_type": "markdown",
   "id": "9f0b7142-1c47-436f-85ed-30efd2642e84",
   "metadata": {},
   "source": [
    "### SOURCE\n",
    "SOURCE = Indicates if the request was received via SeeClickFix or the OAK 311 mobile app, via the legacy Report A Problem website, or via (Phone or Email)."
   ]
  },
  {
   "cell_type": "code",
   "execution_count": null,
   "id": "8b1fadbd-5607-4b5a-9495-6dd63a3acd1b",
   "metadata": {},
   "outputs": [],
   "source": [
    "oakland_311['SOURCE'].describe() ## 'unique == 8' shows that there are 8 different values in this column"
   ]
  },
  {
   "cell_type": "code",
   "execution_count": null,
   "id": "c7067971-e21e-4ca9-85e1-8871ea82805f",
   "metadata": {},
   "outputs": [],
   "source": [
    "# Also tried oakland_311.groupby(\"SOURCE\").count() but this looks too messy\n",
    "## SeeClickFix, Phone, Phone or Email, Website, Email, Voicemail, Other, and City Attorney\n",
    "## SeeClickFix has the most count: 441478\n",
    "## City Attorney has the least count: 196\n",
    "\n",
    "oakland_311['SOURCE'].value_counts()"
   ]
  },
  {
   "cell_type": "markdown",
   "id": "c045458f-969d-4d0c-9a57-9d33a9d44e7d",
   "metadata": {},
   "source": [
    "### REQCATEGORY\n",
    "REQCATEGORY = Request Category"
   ]
  },
  {
   "cell_type": "code",
   "execution_count": null,
   "id": "60e70dba-ec92-40cc-bf57-05ab96748009",
   "metadata": {},
   "outputs": [],
   "source": [
    "## 'count' == 935645 shows that there are some missing values that we can take a closer look\n",
    "## 'unique' == 35 means that there are a total 35 Request Category\n",
    "## 'ILLDUMP' has the most frequency of 336320 (maybe stands for illegal dump?)\n",
    "\n",
    "oakland_311['REQCATEGORY'].describe()"
   ]
  },
  {
   "cell_type": "code",
   "execution_count": null,
   "id": "cc2d1b19-18ab-4d6a-b565-4ac5fadc58f2",
   "metadata": {},
   "outputs": [],
   "source": [
    "## Note that 'POLICE' has the third highest count, a total of 75566 (something to look closer later)\n",
    "\n",
    "oakland_311['REQCATEGORY'].value_counts() ## to see detail counts of every category in this column"
   ]
  },
  {
   "cell_type": "markdown",
   "id": "98ec9dad-fce5-4201-81c3-092171c1c9f2",
   "metadata": {},
   "source": [
    "### STATUS\n",
    "The status as of date of upload. *PENDING:* Request received for review *OPEN:* Request assigned to work unit *WOCREATE:* Work Order created for work to be done (not all work units use this status, so Open service requests may also have work orders created for work to be done) *CLOSED:* Request is resolved *REFERRED:* Oakland Call Center received the request and forwarded it to another entity (see REFERREDTO) *UNFUNDED:* Request is for an service that the City is not funded to provide *CANCEL:* Request was canceled, generally because it was created erroneously, it was used for testing/training, or it is a request that was received that duplicated an existing unresolved request *WAITING ON CUSTOMER:* Request involves a process where customer needs to provide information requested by staff *EVALUATED - NO FURTHER ACTION:* Staff has evaluated the service request and no further action will be taken (e.g., limited resources, temporary issue, staff alerted to ongoing issue, professional judgement says to leave situation as-is, unable to provide requested action) *GONE ON ARRIVAL:* Staff went to location and was unable to verify the issue"
   ]
  },
  {
   "cell_type": "code",
   "execution_count": null,
   "id": "1df12336-c593-4be3-9c66-c5c7e8e26394",
   "metadata": {},
   "outputs": [],
   "source": [
    "# Notice there's a 'CANCEL' (count == 122473) and 'Cancel' (count == 2)\n",
    "\n",
    "oakland_311['STATUS'].value_counts()"
   ]
  },
  {
   "cell_type": "code",
   "execution_count": null,
   "id": "0af41bde-1a30-4bf8-8a21-6f69f7a887cc",
   "metadata": {},
   "outputs": [],
   "source": [
    "# Identify those two rows with 'STATUS' writing 'Cancel' to maybe change them to 'CANCEL' or call to confirm\n",
    "## Use df.loc[df['col1'] == value] syntax\n",
    "\n",
    "oakland_311.loc[oakland_311['STATUS'] == 'Cancel'] ## REQUESTID '734223' and '779834' have Cancel instead of CANCEL"
   ]
  },
  {
   "cell_type": "code",
   "execution_count": null,
   "id": "77be3589-a77c-4b8f-9a1e-1ed2b10ecca5",
   "metadata": {},
   "outputs": [],
   "source": [
    "# Modify 'Cancel' to 'CANCEL'\n",
    "## df['column'] = df['column'].str.replace('original value', 'new value')\n",
    "\n",
    "oakland_311['STATUS'] = oakland_311['STATUS'].str.replace('Cancel', 'CANCEL')"
   ]
  },
  {
   "cell_type": "code",
   "execution_count": null,
   "id": "32cd2a3b-7269-4ca5-8950-7da69c491570",
   "metadata": {},
   "outputs": [],
   "source": [
    "# Check if changed sucessfully\n",
    "\n",
    "oakland_311.loc[oakland_311['STATUS'] == 'Cancel'] ## there's no more 'Cancel' values in this column\n",
    "# OR\n",
    "oakland_311['STATUS'].value_counts() ## the original 2 rows of 'Cancel' have been added to 'CANCEL'"
   ]
  },
  {
   "cell_type": "markdown",
   "id": "9ab22b45-d328-4df6-be77-21f0f91d0cae",
   "metadata": {},
   "source": [
    "### COUNCILDISTRICT\n",
    "COUNCILDISTRICT = City Council District of the REQADDRESS"
   ]
  },
  {
   "cell_type": "code",
   "execution_count": null,
   "id": "7865dcbe-323e-4c13-8094-34ae5b45c8eb",
   "metadata": {},
   "outputs": [],
   "source": [
    "# Council district should be numbers from 1 to 7\n",
    "## Okay... it's a mess\n",
    "## It shows there are 20 unique values in this column\n",
    "## The total count is 891105 (there are many missing values) that possibly associated with address\n",
    "\n",
    "oakland_311['COUNCILDISTRICT'].describe()"
   ]
  },
  {
   "cell_type": "code",
   "execution_count": null,
   "id": "2b22fe75-20ee-4364-9b9a-ba54580d11dd",
   "metadata": {},
   "outputs": [],
   "source": [
    "## Except the expected '1 to 7' values, there are 'CCD1 to CCD7' and some lowercase ccds, typo CDD, and 'District 4'\n",
    "## Need to clean up but also need to know what CCD means\n",
    "\n",
    "oakland_311['COUNCILDISTRICT'].value_counts()"
   ]
  },
  {
   "cell_type": "markdown",
   "id": "420b37f7-4afe-4b70-ab59-4bf2f426a663",
   "metadata": {},
   "source": [
    "## More descriptive statistics"
   ]
  },
  {
   "cell_type": "code",
   "execution_count": null,
   "id": "565c1e17-7229-4021-bd2c-d43246ef12ad",
   "metadata": {},
   "outputs": [],
   "source": [
    "# Execute_Time\n",
    "## Note that there might be wrong values since the maxium of Execute_Time seems weird"
   ]
  },
  {
   "cell_type": "code",
   "execution_count": null,
   "id": "24e014a8-2653-4586-bcdf-0dd44fc78124",
   "metadata": {},
   "outputs": [],
   "source": [
    "# Mean\n",
    "## Note that mean will get affected by outliers (if there are any)\n",
    "\n",
    "oakland_311['Execute_Time'].mean() ## Timedelta('51 days 15:02:08.049985320')"
   ]
  },
  {
   "cell_type": "code",
   "execution_count": null,
   "id": "9d495195-e925-4047-be3a-cb400bf314c9",
   "metadata": {},
   "outputs": [],
   "source": [
    "# Median\n",
    "## The difference between mean and median gives an idea if we plot the Execute_Time out, what the distribution might look like\n",
    "\n",
    "oakland_311['Execute_Time'].median() ## Timedelta('4 days 21:55:37')"
   ]
  },
  {
   "cell_type": "code",
   "execution_count": null,
   "id": "c35533e5-3b91-4592-8193-16a6f162a734",
   "metadata": {},
   "outputs": [],
   "source": [
    "# Sort Execute_Time in descending way can show if there are outliers\n",
    "## Okay... it seems that there are many cases that took them more than 10 years to finish...\n",
    "\n",
    "oakland_311.sort_values(by=['Execute_Time'], ascending=False).head(15)"
   ]
  },
  {
   "cell_type": "markdown",
   "id": "8b3d85aa-39d4-4e14-b330-d996858d2e55",
   "metadata": {},
   "source": [
    "## What seems wrong\n",
    "\n",
    "- DATETIMEINIT and DATETIMECLOSED columns have incorrect date format (fixed)\n",
    "- Execute_Time columm has a maxium value of Timedelta('4293 days 21:59:22') which seems off or could be the outlier\n",
    "- STATUS column has wrong value 'Cancel' that should be changed to 'CANCEL' (fixed)\n",
    "- COUNCILDISTRICT column is a mess that need further clarification with the Oakland City as described above"
   ]
  }
 ],
 "metadata": {
  "kernelspec": {
   "display_name": "Python 3 (ipykernel)",
   "language": "python",
   "name": "python3"
  },
  "language_info": {
   "codemirror_mode": {
    "name": "ipython",
    "version": 3
   },
   "file_extension": ".py",
   "mimetype": "text/x-python",
   "name": "python",
   "nbconvert_exporter": "python",
   "pygments_lexer": "ipython3",
   "version": "3.9.13"
  },
  "toc-showcode": false,
  "vscode": {
   "interpreter": {
    "hash": "3f20ec1070954acb9c0a1e2fe22c44e4562d4bc34fd6c3484aa4ca269fe7a4c9"
   }
  }
 },
 "nbformat": 4,
 "nbformat_minor": 5
}
